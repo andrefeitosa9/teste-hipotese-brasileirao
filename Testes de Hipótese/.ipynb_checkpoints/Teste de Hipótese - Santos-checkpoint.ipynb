{
 "cells": [
  {
   "cell_type": "code",
   "execution_count": null,
   "id": "a51462ce-be45-49ee-8581-e228412f8539",
   "metadata": {},
   "outputs": [],
   "source": [
    "import sys\n",
    "import os\n",
    "import pandas as pd\n",
    "\n",
    "# Obtenha o diretório atual de trabalho\n",
    "diretorio_atual = os.getcwd()\n",
    "\n",
    "# Adicione o diretório do arquivo funcoes_teste_hipotese.py ao sys.path\n",
    "diretorio_funcoes = os.path.join(diretorio_atual, \"Teste de Hipótese - Brasileirão\", \"Testes de Hipótese\")\n",
    "\n",
    "# Adicione o diretório ao sys.path\n",
    "sys.path.append(diretorio_funcoes)\n",
    "\n",
    "# Importe a função do arquivo funcoes_teste_hipotese.py\n",
    "import funcoes_teste_hipotese as fth"
   ]
  },
  {
   "cell_type": "code",
   "execution_count": null,
   "id": "7c912220-bce9-44e0-a436-1680dd035d05",
   "metadata": {},
   "outputs": [],
   "source": [
    "arquivo_treinadores = r\"C:\\Users\\andre\\Teste de Hipótese - Brasileirão\\Tabelas geradas\\Tabela Médias Treinadores - Santos.csv\""
   ]
  },
  {
   "cell_type": "code",
   "execution_count": null,
   "id": "861f6f2b-e72d-4b6a-a8b8-7ce550758b6e",
   "metadata": {},
   "outputs": [],
   "source": [
    "fth.pontuacao_porjogo_treinador(arquivo_treinadores)"
   ]
  },
  {
   "cell_type": "code",
   "execution_count": null,
   "id": "6831ecac-4ba0-44a3-a8fa-a1ea92ee15e4",
   "metadata": {},
   "outputs": [],
   "source": [
    "fth.barras_xG_treinador(arquivo_treinadores)"
   ]
  },
  {
   "cell_type": "code",
   "execution_count": null,
   "id": "35726d2b-3e6c-464c-a5e8-71591061f34c",
   "metadata": {},
   "outputs": [],
   "source": [
    "fth.t_obs_media_pontos_fccd_com_tabela(arquivo_treinadores)"
   ]
  },
  {
   "cell_type": "code",
   "execution_count": null,
   "id": "1e0fbdc6-d106-4b47-9614-29212ffdadb0",
   "metadata": {},
   "outputs": [],
   "source": [
    "fth.t_obs_xGAFavor_fccd_com_tabela(arquivo_treinadores)"
   ]
  },
  {
   "cell_type": "code",
   "execution_count": null,
   "id": "4afd007a-5360-4542-b0c6-3339073e8f56",
   "metadata": {},
   "outputs": [],
   "source": [
    "fth.t_obs_xGContra_fccd_com_tabela(arquivo_treinadores)"
   ]
  },
  {
   "cell_type": "code",
   "execution_count": null,
   "id": "d206dfa5-8ac2-4514-852b-c73e738bb3c3",
   "metadata": {},
   "outputs": [],
   "source": []
  },
  {
   "cell_type": "code",
   "execution_count": null,
   "id": "68e3e04d-1a54-4bcc-bc9c-d47ca6928e9b",
   "metadata": {},
   "outputs": [],
   "source": []
  },
  {
   "cell_type": "code",
   "execution_count": null,
   "id": "0d31ad9e-a702-4161-a6ba-10b28546f5cb",
   "metadata": {},
   "outputs": [],
   "source": []
  },
  {
   "cell_type": "code",
   "execution_count": null,
   "id": "7912faa7-3d7f-47d4-ad90-459b5ed1527d",
   "metadata": {},
   "outputs": [],
   "source": []
  }
 ],
 "metadata": {
  "kernelspec": {
   "display_name": "Python 3 (ipykernel)",
   "language": "python",
   "name": "python3"
  },
  "language_info": {
   "codemirror_mode": {
    "name": "ipython",
    "version": 3
   },
   "file_extension": ".py",
   "mimetype": "text/x-python",
   "name": "python",
   "nbconvert_exporter": "python",
   "pygments_lexer": "ipython3",
   "version": "3.11.7"
  }
 },
 "nbformat": 4,
 "nbformat_minor": 5
}
