{
 "cells": [
  {
   "cell_type": "code",
   "execution_count": 1,
   "id": "38297101-3341-4825-8579-9e3c745e0911",
   "metadata": {},
   "outputs": [],
   "source": [
    "import requests\n",
    "from bs4 import BeautifulSoup\n",
    "import pandas as pd\n",
    "\n",
    "# URL do site que contém a tabela\n",
    "url = r\"https://fbref.com/en/comps/24/2023/schedule/2023-Serie-A-Scores-and-Fixtures\"\n",
    "\n",
    "# Fazendo uma solicitação GET para obter o conteúdo da página\n",
    "response = requests.get(url)\n",
    "\n",
    "# Lista para armazenar os dados dos jogos\n",
    "games_data = []\n",
    "\n",
    "# Verificando se a solicitação foi bem-sucedida\n",
    "if response.status_code == 200:\n",
    "    # Parseando o conteúdo HTML\n",
    "    soup = BeautifulSoup(response.content, 'html.parser')\n",
    "    \n",
    "    # Encontrando a tabela com a classe 'stats_table'\n",
    "    table = soup.find('table', class_='stats_table')\n",
    "    \n",
    "    # Verificando se a tabela foi encontrada\n",
    "    if table:\n",
    "        # Iterando sobre as linhas da tabela\n",
    "        for row in table.find_all('tr'):\n",
    "            # Inicializando uma lista para armazenar os dados de cada jogo\n",
    "            game_row = []\n",
    "            \n",
    "            # Iterando sobre as células de cada linha\n",
    "            cells = row.find_all('td')\n",
    "            if len(cells) > 0:\n",
    "                # Armazenando os dados de cada jogo na lista\n",
    "                game_row.append(cells[1].get_text(strip=True))  # Date\n",
    "                game_row.append(cells[3].get_text(strip=True))  # Home Team\n",
    "                game_row.append(cells[4].get_text(strip=True))  # xG Home\n",
    "                game_row.append(cells[5].get_text(strip=True))  # Score\n",
    "                game_row.append(cells[6].get_text(strip=True))  # xG Away\n",
    "                game_row.append(cells[7].get_text(strip=True))  # Away Team\n",
    "                \n",
    "                # Adicionando a linha de dados dos jogos à lista de jogos\n",
    "                games_data.append(game_row)\n",
    "    else:\n",
    "        print(\"Tabela não encontrada.\")\n",
    "else:\n",
    "    print(\"Erro ao acessar a página:\", response.status_code)"
   ]
  },
  {
   "cell_type": "code",
   "execution_count": 2,
   "id": "500fc834-ae56-49e5-81aa-fb366d3a0d98",
   "metadata": {},
   "outputs": [],
   "source": [
    "df = pd.DataFrame(games_data, columns=['Date', 'Home Team', 'xG Home', 'Score', 'xG Away', 'Away Team'])"
   ]
  },
  {
   "cell_type": "code",
   "execution_count": 3,
   "id": "59436568-c4da-4fa7-b7bf-c81cd4f38f95",
   "metadata": {},
   "outputs": [],
   "source": [
    "# Retirando as linhas em branco \n",
    "df = df[df['Home Team'] != '']"
   ]
  },
  {
   "cell_type": "code",
   "execution_count": 4,
   "id": "f911fce9-81ff-452b-b29d-6fafb8ce892d",
   "metadata": {},
   "outputs": [
    {
     "name": "stdout",
     "output_type": "stream",
     "text": [
      "<class 'pandas.core.frame.DataFrame'>\n",
      "Index: 380 entries, 0 to 425\n",
      "Data columns (total 6 columns):\n",
      " #   Column     Non-Null Count  Dtype \n",
      "---  ------     --------------  ----- \n",
      " 0   Date       380 non-null    object\n",
      " 1   Home Team  380 non-null    object\n",
      " 2   xG Home    380 non-null    object\n",
      " 3   Score      380 non-null    object\n",
      " 4   xG Away    380 non-null    object\n",
      " 5   Away Team  380 non-null    object\n",
      "dtypes: object(6)\n",
      "memory usage: 20.8+ KB\n"
     ]
    }
   ],
   "source": [
    "df.info()"
   ]
  },
  {
   "cell_type": "code",
   "execution_count": 5,
   "id": "cfb90af3-7ecc-4e0c-b909-528796938ef3",
   "metadata": {},
   "outputs": [],
   "source": [
    "# Agora eu preciso achar uma forma de integrar os dois csvs e jogar os valores de xG Home e xG Away para a tabela que\n",
    "# já tenho com os dados da CBF\n",
    "df.to_csv(\"Dados FBREF Brasileirão 2023.csv\")"
   ]
  },
  {
   "cell_type": "code",
   "execution_count": null,
   "id": "dcf8a18e-0b58-4d0f-ac67-fa2c8843bbc5",
   "metadata": {},
   "outputs": [],
   "source": []
  },
  {
   "cell_type": "code",
   "execution_count": null,
   "id": "42eab7b4-8eca-4a3b-8ae8-a4c7a6174517",
   "metadata": {},
   "outputs": [],
   "source": []
  },
  {
   "cell_type": "code",
   "execution_count": null,
   "id": "5a158af0-a518-4909-87cb-8fa3751cd624",
   "metadata": {},
   "outputs": [],
   "source": []
  },
  {
   "cell_type": "code",
   "execution_count": null,
   "id": "6e9a3a8f-f204-41a1-b5e9-33efc98b6642",
   "metadata": {},
   "outputs": [],
   "source": []
  }
 ],
 "metadata": {
  "kernelspec": {
   "display_name": "Python 3 (ipykernel)",
   "language": "python",
   "name": "python3"
  },
  "language_info": {
   "codemirror_mode": {
    "name": "ipython",
    "version": 3
   },
   "file_extension": ".py",
   "mimetype": "text/x-python",
   "name": "python",
   "nbconvert_exporter": "python",
   "pygments_lexer": "ipython3",
   "version": "3.11.7"
  }
 },
 "nbformat": 4,
 "nbformat_minor": 5
}
