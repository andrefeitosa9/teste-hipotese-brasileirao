{
 "cells": [
  {
   "cell_type": "code",
   "execution_count": 1,
   "id": "bb49d1bd-675f-4382-9c8c-d4e2426a65a1",
   "metadata": {},
   "outputs": [],
   "source": [
    "# Eu tenho que:\n",
    "\n",
    "# 1 - Criar diferentes dataframes para os 4 times que quero analisar: Botafogo, Corinthians, Coritiba e Santos\n",
    "# 2 - Jogar os dados dos jogos desses times times (como visitante ou mandante) para os seus dataframes \n",
    "# 3 - juntar a data de uma forma que o python reconheça a sequência (Criar uma nova coluna na planilha para fazer isso)\n",
    "# 4 - Criar uma coluna nova no dataframe com o nome do técnico  do time na época\n",
    "# 5 - Criar uma iteração para, de acordo com a data do jogo, dar o nome do técnico na época\n",
    "# 6 - Fazer a média de pontos de cada técnico no time. \n",
    "# 7 - Fazer um teste de hipóteses para saber SE é possível afirmar em um nível de significância de 5% que houve melhoria na pontuação\n",
    "# do time com a mudança"
   ]
  },
  {
   "cell_type": "code",
   "execution_count": 2,
   "id": "5480d7de-7ee5-4782-8d2c-d52ba316628c",
   "metadata": {},
   "outputs": [],
   "source": [
    "import pandas as pd"
   ]
  },
  {
   "cell_type": "code",
   "execution_count": 3,
   "id": "7380d9ec-878a-4397-b56e-8e301c0960c7",
   "metadata": {},
   "outputs": [],
   "source": [
    "df = pd.read_csv(r'Dados Serie A.csv')"
   ]
  },
  {
   "cell_type": "code",
   "execution_count": 6,
   "id": "c1c475e6-daa3-40a1-b549-0701d4ea1218",
   "metadata": {},
   "outputs": [],
   "source": [
    "# Limpar a tabela: \n",
    "# Retirar a primeira coluna e criar uma nova chamada \"Rodada\"\n",
    "# Retirar a coluna \"Temporada\"\n",
    "# Colocar a data em formato datetime"
   ]
  },
  {
   "cell_type": "code",
   "execution_count": 7,
   "id": "8a9cf030-a492-46bf-8f7d-f411225fa12c",
   "metadata": {},
   "outputs": [],
   "source": [
    "df = df.drop(columns=['Unnamed: 0', 'temporada'])"
   ]
  },
  {
   "cell_type": "code",
   "execution_count": 8,
   "id": "b65fcfba-1933-4863-9e9d-ecdd448b3137",
   "metadata": {},
   "outputs": [
    {
     "data": {
      "text/html": [
       "<div>\n",
       "<style scoped>\n",
       "    .dataframe tbody tr th:only-of-type {\n",
       "        vertical-align: middle;\n",
       "    }\n",
       "\n",
       "    .dataframe tbody tr th {\n",
       "        vertical-align: top;\n",
       "    }\n",
       "\n",
       "    .dataframe thead th {\n",
       "        text-align: right;\n",
       "    }\n",
       "</style>\n",
       "<table border=\"1\" class=\"dataframe\">\n",
       "  <thead>\n",
       "    <tr style=\"text-align: right;\">\n",
       "      <th></th>\n",
       "      <th>dia_numero</th>\n",
       "      <th>mes</th>\n",
       "      <th>ano</th>\n",
       "      <th>mandante</th>\n",
       "      <th>visitante</th>\n",
       "      <th>gol_mandante</th>\n",
       "      <th>gol_visitante</th>\n",
       "      <th>ponto_mandante</th>\n",
       "      <th>ponto_visitante</th>\n",
       "    </tr>\n",
       "  </thead>\n",
       "  <tbody>\n",
       "    <tr>\n",
       "      <th>0</th>\n",
       "      <td>16</td>\n",
       "      <td>Abril</td>\n",
       "      <td>2023</td>\n",
       "      <td>Flamengo - RJ</td>\n",
       "      <td>Coritiba S.a.f. - PR</td>\n",
       "      <td>3</td>\n",
       "      <td>0</td>\n",
       "      <td>3</td>\n",
       "      <td>0</td>\n",
       "    </tr>\n",
       "    <tr>\n",
       "      <th>1</th>\n",
       "      <td>15</td>\n",
       "      <td>Abril</td>\n",
       "      <td>2023</td>\n",
       "      <td>Botafogo - RJ</td>\n",
       "      <td>São Paulo - SP</td>\n",
       "      <td>2</td>\n",
       "      <td>1</td>\n",
       "      <td>3</td>\n",
       "      <td>0</td>\n",
       "    </tr>\n",
       "    <tr>\n",
       "      <th>2</th>\n",
       "      <td>15</td>\n",
       "      <td>Abril</td>\n",
       "      <td>2023</td>\n",
       "      <td>Palmeiras - SP</td>\n",
       "      <td>Cuiabá Saf - MT</td>\n",
       "      <td>2</td>\n",
       "      <td>1</td>\n",
       "      <td>3</td>\n",
       "      <td>0</td>\n",
       "    </tr>\n",
       "    <tr>\n",
       "      <th>3</th>\n",
       "      <td>16</td>\n",
       "      <td>Abril</td>\n",
       "      <td>2023</td>\n",
       "      <td>Corinthians - SP</td>\n",
       "      <td>Cruzeiro Saf - MG</td>\n",
       "      <td>2</td>\n",
       "      <td>1</td>\n",
       "      <td>3</td>\n",
       "      <td>0</td>\n",
       "    </tr>\n",
       "    <tr>\n",
       "      <th>4</th>\n",
       "      <td>15</td>\n",
       "      <td>Abril</td>\n",
       "      <td>2023</td>\n",
       "      <td>Red Bull Bragantino - SP</td>\n",
       "      <td>Bahia - BA</td>\n",
       "      <td>2</td>\n",
       "      <td>1</td>\n",
       "      <td>3</td>\n",
       "      <td>0</td>\n",
       "    </tr>\n",
       "    <tr>\n",
       "      <th>...</th>\n",
       "      <td>...</td>\n",
       "      <td>...</td>\n",
       "      <td>...</td>\n",
       "      <td>...</td>\n",
       "      <td>...</td>\n",
       "      <td>...</td>\n",
       "      <td>...</td>\n",
       "      <td>...</td>\n",
       "      <td>...</td>\n",
       "    </tr>\n",
       "    <tr>\n",
       "      <th>375</th>\n",
       "      <td>6</td>\n",
       "      <td>Dezembro</td>\n",
       "      <td>2023</td>\n",
       "      <td>Cruzeiro Saf - MG</td>\n",
       "      <td>Palmeiras - SP</td>\n",
       "      <td>1</td>\n",
       "      <td>1</td>\n",
       "      <td>1</td>\n",
       "      <td>1</td>\n",
       "    </tr>\n",
       "    <tr>\n",
       "      <th>376</th>\n",
       "      <td>6</td>\n",
       "      <td>Dezembro</td>\n",
       "      <td>2023</td>\n",
       "      <td>Internacional - RS</td>\n",
       "      <td>Botafogo - RJ</td>\n",
       "      <td>3</td>\n",
       "      <td>1</td>\n",
       "      <td>3</td>\n",
       "      <td>0</td>\n",
       "    </tr>\n",
       "    <tr>\n",
       "      <th>377</th>\n",
       "      <td>6</td>\n",
       "      <td>Dezembro</td>\n",
       "      <td>2023</td>\n",
       "      <td>Coritiba S.a.f. - PR</td>\n",
       "      <td>Corinthians - SP</td>\n",
       "      <td>0</td>\n",
       "      <td>2</td>\n",
       "      <td>0</td>\n",
       "      <td>3</td>\n",
       "    </tr>\n",
       "    <tr>\n",
       "      <th>378</th>\n",
       "      <td>6</td>\n",
       "      <td>Dezembro</td>\n",
       "      <td>2023</td>\n",
       "      <td>Bahia - BA</td>\n",
       "      <td>Atlético Mineiro Saf - MG</td>\n",
       "      <td>4</td>\n",
       "      <td>1</td>\n",
       "      <td>3</td>\n",
       "      <td>0</td>\n",
       "    </tr>\n",
       "    <tr>\n",
       "      <th>379</th>\n",
       "      <td>6</td>\n",
       "      <td>Dezembro</td>\n",
       "      <td>2023</td>\n",
       "      <td>Cuiabá Saf - MT</td>\n",
       "      <td>Athletico Paranaense - PR</td>\n",
       "      <td>3</td>\n",
       "      <td>0</td>\n",
       "      <td>3</td>\n",
       "      <td>0</td>\n",
       "    </tr>\n",
       "  </tbody>\n",
       "</table>\n",
       "<p>380 rows × 9 columns</p>\n",
       "</div>"
      ],
      "text/plain": [
       "     dia_numero         mes   ano                  mandante  \\\n",
       "0            16      Abril   2023             Flamengo - RJ   \n",
       "1            15      Abril   2023             Botafogo - RJ   \n",
       "2            15      Abril   2023            Palmeiras - SP   \n",
       "3            16      Abril   2023          Corinthians - SP   \n",
       "4            15      Abril   2023  Red Bull Bragantino - SP   \n",
       "..          ...         ...   ...                       ...   \n",
       "375           6   Dezembro   2023         Cruzeiro Saf - MG   \n",
       "376           6   Dezembro   2023        Internacional - RS   \n",
       "377           6   Dezembro   2023      Coritiba S.a.f. - PR   \n",
       "378           6   Dezembro   2023                Bahia - BA   \n",
       "379           6   Dezembro   2023           Cuiabá Saf - MT   \n",
       "\n",
       "                     visitante  gol_mandante  gol_visitante  ponto_mandante  \\\n",
       "0         Coritiba S.a.f. - PR             3              0               3   \n",
       "1               São Paulo - SP             2              1               3   \n",
       "2              Cuiabá Saf - MT             2              1               3   \n",
       "3            Cruzeiro Saf - MG             2              1               3   \n",
       "4                   Bahia - BA             2              1               3   \n",
       "..                         ...           ...            ...             ...   \n",
       "375             Palmeiras - SP             1              1               1   \n",
       "376              Botafogo - RJ             3              1               3   \n",
       "377           Corinthians - SP             0              2               0   \n",
       "378  Atlético Mineiro Saf - MG             4              1               3   \n",
       "379  Athletico Paranaense - PR             3              0               3   \n",
       "\n",
       "     ponto_visitante  \n",
       "0                  0  \n",
       "1                  0  \n",
       "2                  0  \n",
       "3                  0  \n",
       "4                  0  \n",
       "..               ...  \n",
       "375                1  \n",
       "376                0  \n",
       "377                3  \n",
       "378                0  \n",
       "379                0  \n",
       "\n",
       "[380 rows x 9 columns]"
      ]
     },
     "execution_count": 8,
     "metadata": {},
     "output_type": "execute_result"
    }
   ],
   "source": [
    "df"
   ]
  },
  {
   "cell_type": "code",
   "execution_count": 22,
   "id": "62d02c39-ce09-4e94-b258-44a28c3110cd",
   "metadata": {},
   "outputs": [],
   "source": [
    "df['mes'] = df['mes'].str.strip()"
   ]
  },
  {
   "cell_type": "code",
   "execution_count": 25,
   "id": "6eae7ad7-66c8-4730-864e-0a90bc14a05e",
   "metadata": {},
   "outputs": [],
   "source": [
    "# Mapeando os nomes dos meses para números de 1 a 12\n",
    "meses = {\n",
    "    'Janeiro': 1,\n",
    "    'Fevereiro': 2,\n",
    "    'Março': 3,\n",
    "    'Abril': 4,\n",
    "    'Maio': 5,\n",
    "    'Junho': 6,\n",
    "    'Julho': 7,\n",
    "    'Agosto': 8,\n",
    "    'Setembro': 9,\n",
    "    'Outubro': 10,\n",
    "    'Novembro': 11,\n",
    "    'Dezembro': 12\n",
    "}\n",
    "\n",
    "# Criando uma nova coluna 'mes_int' com o número do mês\n",
    "df['mes_int'] = df['mes'].map(meses)"
   ]
  },
  {
   "cell_type": "code",
   "execution_count": 29,
   "id": "530c6555-78a6-42e7-bef0-3187d2b1463a",
   "metadata": {},
   "outputs": [],
   "source": [
    "df['Data'] = pd.to_datetime(df['dia_numero'].astype(str) + '-' + df['mes_int'].astype(str) + '-' + df['ano'].astype(str), format='%d-%m-%Y')"
   ]
  },
  {
   "cell_type": "code",
   "execution_count": 31,
   "id": "9e8849f8-cb41-4ca2-921a-87a0d100987a",
   "metadata": {},
   "outputs": [],
   "source": [
    "# Salvando a série da coluna 'Data'\n",
    "coluna_data = df.pop('Data')\n",
    "\n",
    "# Inserindo a coluna 'Data' na primeira posição\n",
    "df.insert(0, 'Data', coluna_data)"
   ]
  },
  {
   "cell_type": "code",
   "execution_count": null,
   "id": "f9e00284-8067-4626-a278-04eb0b5ae247",
   "metadata": {},
   "outputs": [],
   "source": [
    "df = df.drop(columns=['dia_numero', 'mes', 'ano', 'mes_int'])"
   ]
  },
  {
   "cell_type": "code",
   "execution_count": 40,
   "id": "a61a1335-505c-4d33-8a8a-635bb8f4c136",
   "metadata": {},
   "outputs": [
    {
     "data": {
      "text/plain": [
       "array(['Flamengo - RJ', 'Botafogo - RJ', 'Palmeiras - SP',\n",
       "       'Corinthians - SP', 'Red Bull Bragantino - SP',\n",
       "       'Atlético Mineiro Saf - MG', 'Grêmio - RS',\n",
       "       'Athletico Paranaense - PR', 'Fortaleza - CE', 'América Saf - MG',\n",
       "       'Fluminense - RJ', 'Vasco da Gama S.a.f. - RJ', 'São Paulo - SP',\n",
       "       'Santos - SP', 'Goiás - GO', 'Cruzeiro Saf - MG',\n",
       "       'Internacional - RS', 'Coritiba S.a.f. - PR', 'Bahia - BA',\n",
       "       'Cuiabá Saf - MT'], dtype=object)"
      ]
     },
     "execution_count": 40,
     "metadata": {},
     "output_type": "execute_result"
    }
   ],
   "source": [
    "df['mandante'].unique()"
   ]
  },
  {
   "cell_type": "code",
   "execution_count": 41,
   "id": "0b9df49c-2d4c-4679-947d-e57749601d7e",
   "metadata": {},
   "outputs": [],
   "source": [
    "# Lista dos times\n",
    "times = ['Botafogo - RJ', 'Corinthians - SP', 'Santos - SP', 'Coritiba S.a.f. - PR']\n",
    "\n",
    "# Dicionário para armazenar os DataFrames de cada time\n",
    "jogos_times = {}\n",
    "\n",
    "# Iterar sobre os times\n",
    "for time in times:\n",
    "    # Filtrar os jogos em que o time é mandante ou visitante\n",
    "    jogos_time = df[(df['mandante'] == time) | (df['visitante'] == time)]\n",
    "    \n",
    "    # Salvar o DataFrame do time no dicionário\n",
    "    jogos_times[time] = jogos_time"
   ]
  },
  {
   "cell_type": "code",
   "execution_count": 1,
   "id": "9484caca-1e23-4d70-a19f-f6162d276749",
   "metadata": {},
   "outputs": [
    {
     "ename": "NameError",
     "evalue": "name 'jogos_times' is not defined",
     "output_type": "error",
     "traceback": [
      "\u001b[1;31m---------------------------------------------------------------------------\u001b[0m",
      "\u001b[1;31mNameError\u001b[0m                                 Traceback (most recent call last)",
      "Cell \u001b[1;32mIn[1], line 3\u001b[0m\n\u001b[0;32m      1\u001b[0m \u001b[38;5;66;03m#Separando os dataframes de cada time\u001b[39;00m\n\u001b[1;32m----> 3\u001b[0m jogos_botafogo \u001b[38;5;241m=\u001b[39m jogos_times[\u001b[38;5;124m'\u001b[39m\u001b[38;5;124mBotafogo - RJ\u001b[39m\u001b[38;5;124m'\u001b[39m]\u001b[38;5;241m.\u001b[39mcopy()\n\u001b[0;32m      4\u001b[0m jogos_corinthians \u001b[38;5;241m=\u001b[39m jogos_times[\u001b[38;5;124m'\u001b[39m\u001b[38;5;124mCorinthians - SP\u001b[39m\u001b[38;5;124m'\u001b[39m]\u001b[38;5;241m.\u001b[39mcopy()\n\u001b[0;32m      5\u001b[0m jogos_santos \u001b[38;5;241m=\u001b[39m jogos_times[\u001b[38;5;124m'\u001b[39m\u001b[38;5;124mSantos - SP\u001b[39m\u001b[38;5;124m'\u001b[39m]\u001b[38;5;241m.\u001b[39mcopy()\n",
      "\u001b[1;31mNameError\u001b[0m: name 'jogos_times' is not defined"
     ]
    }
   ],
   "source": [
    "#Separando os dataframes de cada time\n",
    "\n",
    "jogos_botafogo = jogos_times['Botafogo - RJ'].copy()\n",
    "jogos_corinthians = jogos_times['Corinthians - SP'].copy()\n",
    "jogos_santos = jogos_times['Santos - SP'].copy()\n",
    "jogos_coritiba = jogos_times['Coritiba S.a.f. - PR'].copy()"
   ]
  },
  {
   "cell_type": "code",
   "execution_count": 50,
   "id": "8543c951-424e-493f-a9a3-08f187d5d927",
   "metadata": {},
   "outputs": [
    {
     "name": "stdout",
     "output_type": "stream",
     "text": [
      "<class 'pandas.core.frame.DataFrame'>\n"
     ]
    }
   ],
   "source": [
    "# # Atribuindo um Técnico para cada jogo dos times\n",
    "# Botafogo\n",
    "Luis Castro = de 28/03/2022 a 30/06/2023\n",
    "Claudio Caçapa = de 01/07/2023 a 15/07/2023\n",
    "Bruno Lage = de 16/07/2023 a 03/10/2023\n",
    "Lucio Flávio = de 04/10/2023 a 12/11/2023\n",
    "Tiago Nunes = de 16/11/2023 a 22/02/2024\n",
    "\n",
    "# Corinthians\n",
    "# Fernando Lázaro = 20/11/2022 a 20/04/2023\n",
    "# Vanderlei Luxemburgo = 01/05/2023 a 27/09/2023\n",
    "# Mano Menezes = 28/09/2023 a 05/02/2024\n",
    "\n",
    "Santos\n",
    "Odair Hellmann = de 16/11/2022 a 22/06/2023\n",
    "Paulo Turra = de 26/06/2023 a 06/08/2023\n",
    "Diego Aguirre = de 07/08/2023 a 15/09/2023\n",
    "Marcelo Fernandes = de 16/09/2023 a 07/12/2023\n",
    "\n",
    "# Coritiba \n",
    "Antônio Oliveira = de 13/12/2022 a 18/04/2023\n",
    "Antônio Carlos Zago = 24/04/2023 a 26/06/2023\n",
    "Thiago Kosloski = de 28/06/2023 a 27/11/2023\n",
    "Guto Ferreira = de 30/11/2023 a 20/04/2024\n",
    "\n",
    "# # df[\"Técnico\"] = \n"
   ]
  }
 ],
 "metadata": {
  "kernelspec": {
   "display_name": "Python 3 (ipykernel)",
   "language": "python",
   "name": "python3"
  },
  "language_info": {
   "codemirror_mode": {
    "name": "ipython",
    "version": 3
   },
   "file_extension": ".py",
   "mimetype": "text/x-python",
   "name": "python",
   "nbconvert_exporter": "python",
   "pygments_lexer": "ipython3",
   "version": "3.11.7"
  }
 },
 "nbformat": 4,
 "nbformat_minor": 5
}
